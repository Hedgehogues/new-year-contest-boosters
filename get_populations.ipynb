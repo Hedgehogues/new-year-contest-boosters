{
 "cells": [
  {
   "cell_type": "code",
   "execution_count": 1,
   "metadata": {},
   "outputs": [],
   "source": [
    "import json\n",
    "\n",
    "from os import listdir\n",
    "from os.path import isfile, join\n",
    "from tqdm import tqdm\n",
    "import pandas as pd\n",
    "import numpy as np\n",
    "import re\n",
    "\n",
    "from sklearn.neighbors import KNeighborsClassifier\n",
    "\n",
    "import json\n",
    "\n",
    "from os import listdir\n",
    "from os.path import isfile, join\n",
    "from tqdm import tqdm\n",
    "import pandas as pd\n",
    "import numpy as np\n",
    "import re\n",
    "from yandex.get_yandex_ratings import get_items\n",
    "\n",
    "from sklearn.neighbors import KNeighborsClassifier\n",
    "\n",
    "import pandas as pd\n",
    "import numpy as np\n",
    "from math import sin, cos, sqrt, atan2, radians\n",
    "from tqdm import tqdm\n",
    "from sklearn.neighbors import KNeighborsClassifier\n",
    "from sklearn.metrics import mean_squared_error\n",
    "import lightgbm as lgb\n",
    "from sklearn.model_selection import train_test_split\n",
    "from matplotlib import pyplot as plt\n",
    "from matplotlib.markers import MarkerStyle\n",
    "from postal.parser import parse_address\n",
    "from tqdm import tqdm\n",
    "from sklearn.ensemble import RandomForestRegressor\n",
    "from xgboost import XGBRegressor\n",
    "from sklearn.cluster import KMeans\n",
    "from sklearn.linear_model import LinearRegression\n",
    "from sklearn.preprocessing import PolynomialFeatures\n",
    "from scipy.interpolate import spline\n",
    "from sklearn.cluster import DBSCAN\n",
    "from collections import Counter\n",
    "import json\n",
    "\n",
    "\n",
    "\n",
    "fontsize = 18\n",
    "figsize = (15,10)\n",
    "plot_alpha = 0.3\n",
    "linewidth = 4\n",
    "\n",
    "pd.set_option('display.max_columns', 500)\n",
    "pd.set_option('display.max_rows', 500)"
   ]
  },
  {
   "cell_type": "code",
   "execution_count": 2,
   "metadata": {},
   "outputs": [],
   "source": [
    "def str_to_point(s):\n",
    "    if s is None:\n",
    "        return None\n",
    "    l = s.split(' ')\n",
    "    return {'long': float(l[0]), 'lat': float(l[1])}"
   ]
  },
  {
   "cell_type": "code",
   "execution_count": 3,
   "metadata": {},
   "outputs": [],
   "source": [
    "train = pd.read_csv('data/train.csv', index_col=0)\n",
    "test = pd.read_csv('data/test.csv', index_col=0)\n",
    "test = test.rename(columns={'atm_group': '0-bank'})\n",
    "train = train.rename(columns={'atm_group': '0-bank'})\n",
    "banks = np.uint(np.sort(test['0-bank'].unique() * 10))\n",
    "\n",
    "with open('missed_coords.json', 'r') as infile:\n",
    "    missed_coords = json.load(infile)"
   ]
  },
  {
   "cell_type": "code",
   "execution_count": 4,
   "metadata": {},
   "outputs": [],
   "source": [
    "missed_coords = [(str_to_point(item[0]), item[1], item[2], item[3]) for item in missed_coords]"
   ]
  },
  {
   "cell_type": "code",
   "execution_count": 5,
   "metadata": {},
   "outputs": [],
   "source": [
    "test = test.rename(columns={'lat': '6-lat', 'long': '6-long'})\n",
    "train = train.rename(columns={'lat': '6-lat', 'long': '6-long'})"
   ]
  },
  {
   "cell_type": "markdown",
   "metadata": {},
   "source": [
    "# Prepare"
   ]
  },
  {
   "cell_type": "code",
   "execution_count": 6,
   "metadata": {},
   "outputs": [],
   "source": [
    "test['0-bank'] = np.uint(test['0-bank'] * 10)\n",
    "train['0-bank'] = np.uint(train['0-bank'] * 10)\n",
    "columns_for_drop = ['address', 'address_rus']"
   ]
  },
  {
   "cell_type": "markdown",
   "metadata": {},
   "source": [
    "### Запоминаем индексы"
   ]
  },
  {
   "cell_type": "code",
   "execution_count": 7,
   "metadata": {},
   "outputs": [],
   "source": [
    "train['is_train'] = True\n",
    "test['is_train'] = False\n",
    "test['index'] = test.index + 1\n",
    "train['index'] = train.index + 1\n",
    "train['train_index'] = train.index + 1\n",
    "test['test_index'] = test.index + 1\n",
    "train['test_index'] = 0\n",
    "test['train_index'] = 0\n",
    "train['index'] = train.index"
   ]
  },
  {
   "cell_type": "markdown",
   "metadata": {},
   "source": [
    "### Создаём общие данные tran-test"
   ]
  },
  {
   "cell_type": "code",
   "execution_count": 8,
   "metadata": {},
   "outputs": [],
   "source": [
    "data_all = train.append(test, sort=False)\n",
    "\n",
    "data_all['address_fail'] = 0\n",
    "data_all.at[data_all['address_rus'].isnull(), 'address_fail'] = 1\n",
    "data_all['base_target'] = data_all['target']\n",
    "data_all.at[(data_all['address_fail'] == 1) & (data_all['is_train']), 'target'] = 0\n",
    "\n",
    "data_all['address_rus'] = data_all['address_rus'].fillna('')\n",
    "\n",
    "counts = data_all.groupby('address_rus')['id'].count().reset_index().rename(columns={'id':'the_same_address_terminals'})\n",
    "data_all = pd.merge(data_all, counts, how='left', on='address_rus')\n",
    "data_all.at[data_all['address_fail'] == 1, 'the_same_address_terminals'] = 0"
   ]
  },
  {
   "cell_type": "code",
   "execution_count": 9,
   "metadata": {},
   "outputs": [],
   "source": [
    "test['0-bank'] = np.uint(test['0-bank'] * 10)\n",
    "train['0-bank'] = np.uint(train['0-bank'] * 10)"
   ]
  },
  {
   "cell_type": "markdown",
   "metadata": {},
   "source": [
    "### Fillna for address_rus"
   ]
  },
  {
   "cell_type": "code",
   "execution_count": 10,
   "metadata": {},
   "outputs": [],
   "source": [
    "data_all.at[data_all['address_fail'], 'address_rus'] = data_all['address_rus'].fillna(\"\")"
   ]
  },
  {
   "cell_type": "markdown",
   "metadata": {},
   "source": [
    "### Fillna for lat, long"
   ]
  },
  {
   "cell_type": "code",
   "execution_count": 11,
   "metadata": {},
   "outputs": [],
   "source": [
    "data_all.at[:, ['6-lat', '6-long']] = data_all[['6-lat', '6-long']].fillna(0)"
   ]
  },
  {
   "cell_type": "markdown",
   "metadata": {},
   "source": [
    "### Fill missed coords\n"
   ]
  },
  {
   "cell_type": "code",
   "execution_count": 12,
   "metadata": {},
   "outputs": [],
   "source": [
    "missed_ids = [item[3] for item in missed_coords]\n",
    "missed_cities = [item[2] for item in missed_coords]\n",
    "missed_levels = [1 if item[1] == 'Level.HOUSE' else 0 for item in missed_coords]\n",
    "missed_lats = [item[0]['lat'] if item[0] is not None else None for item in missed_coords]\n",
    "missed_longs = [item[0]['long'] if item[0] is not None else None for item in missed_coords]\n",
    "\n",
    "set_missed_ids = set(missed_ids)\n",
    "missed_inds = data_all['id'].apply(lambda el: el in set_missed_ids)"
   ]
  },
  {
   "cell_type": "code",
   "execution_count": 13,
   "metadata": {},
   "outputs": [],
   "source": [
    "data_all.at[missed_inds, '6-lat'] = missed_lats\n",
    "data_all.at[missed_inds, '6-long'] = missed_longs\n",
    "data_all['6-levels'] = 1\n",
    "data_all.at[missed_inds, '6-levels'] = missed_levels\n",
    "data_all.at[missed_inds, 'city'] = ['' if city is None else city.lower() for city in missed_cities]\n",
    "data_all['address_fail'] = 0\n",
    "data_all['address_fail'] = data_all['6-lat'].isnull()\n",
    "data_all.at[:, ['6-lat', '6-long']] = data_all[['6-lat', '6-long']].fillna(0)"
   ]
  },
  {
   "cell_type": "code",
   "execution_count": 14,
   "metadata": {},
   "outputs": [],
   "source": [
    "data_all['0-bank_base'] = data_all['0-bank']\n",
    "data_all = pd.get_dummies(data_all, columns=['0-bank'], prefix='0-bank')"
   ]
  },
  {
   "cell_type": "markdown",
   "metadata": {},
   "source": [
    "### Детекция городов"
   ]
  },
  {
   "cell_type": "code",
   "execution_count": 15,
   "metadata": {},
   "outputs": [],
   "source": [
    "def custom_parse_address(row):\n",
    "    if len(row) == 0:\n",
    "        return 'NULL'\n",
    "    d = dict([(item[1], item[0]) for item in parse_address(row)])\n",
    "    city = ''\n",
    "    if 'city' in d:\n",
    "        city = d['city']\n",
    "    return city\n",
    "\n",
    "data_all['city-temp'] = data_all['address_rus'].apply(custom_parse_address)"
   ]
  },
  {
   "cell_type": "code",
   "execution_count": 16,
   "metadata": {},
   "outputs": [],
   "source": [
    "data_all.loc[missed_inds, 'city-temp'] = data_all[missed_inds]['city']\n",
    "data_all['city'] = data_all['city-temp']\n",
    "data_all['city'] = list(map(lambda x: x.replace('-', ' ').lower().replace('город ', '').replace(' город', '').replace('ё', 'e'), data_all['city']))\n",
    "del data_all['city-temp']"
   ]
  },
  {
   "cell_type": "code",
   "execution_count": 17,
   "metadata": {},
   "outputs": [],
   "source": [
    "# Не задетектились\n",
    "\n",
    "d = {\n",
    "    60: 'ст дружба-1',\n",
    "    299: 'буденновский лес',\n",
    "    300: 'буденновский лес',\n",
    "    4443: 'екатеринбург',\n",
    "    4444: 'екатеринбург',\n",
    "    4445: 'екатеринбург',\n",
    "    4446: 'екатеринбург',\n",
    "    8374: 'усть-илимск',\n",
    "    8386: 'усть-илимск',\n",
    "    4609: 'усть-илимск'\n",
    "}\n",
    "for k in d:\n",
    "    data_all.at[k, 'city'] = d[k]\n",
    "data_all.at[data_all['city'] == '', 'city'] = data_all[data_all['city'] == ''].index.astype(str)\n",
    "\n",
    "data_all = data_all[['0-bank_base', 'address_rus', 'address', '6-lat', '6-long', 'city']]"
   ]
  },
  {
   "cell_type": "code",
   "execution_count": 18,
   "metadata": {},
   "outputs": [
    {
     "data": {
      "text/html": [
       "<div>\n",
       "<style scoped>\n",
       "    .dataframe tbody tr th:only-of-type {\n",
       "        vertical-align: middle;\n",
       "    }\n",
       "\n",
       "    .dataframe tbody tr th {\n",
       "        vertical-align: top;\n",
       "    }\n",
       "\n",
       "    .dataframe thead th {\n",
       "        text-align: right;\n",
       "    }\n",
       "</style>\n",
       "<table border=\"1\" class=\"dataframe\">\n",
       "  <thead>\n",
       "    <tr style=\"text-align: right;\">\n",
       "      <th></th>\n",
       "      <th>0-bank_base</th>\n",
       "      <th>address_rus</th>\n",
       "      <th>address</th>\n",
       "      <th>6-lat</th>\n",
       "      <th>6-long</th>\n",
       "      <th>city</th>\n",
       "    </tr>\n",
       "  </thead>\n",
       "  <tbody>\n",
       "    <tr>\n",
       "      <th>0</th>\n",
       "      <td>320</td>\n",
       "      <td>улица А.О. Емельянова, 34, Южно-Сахалинск, Сах...</td>\n",
       "      <td>EMELYANOVA,34          Y-SAKHALINSK</td>\n",
       "      <td>46.940995</td>\n",
       "      <td>142.738319</td>\n",
       "      <td>южно сахалинск</td>\n",
       "    </tr>\n",
       "    <tr>\n",
       "      <th>1</th>\n",
       "      <td>320</td>\n",
       "      <td>Комсомольская улица, 259, Южно-Сахалинск, Саха...</td>\n",
       "      <td>KOMSOMOLSKAYA,259B     Y.SAKHALINSK</td>\n",
       "      <td>46.937353</td>\n",
       "      <td>142.753348</td>\n",
       "      <td>южно сахалинск</td>\n",
       "    </tr>\n",
       "    <tr>\n",
       "      <th>2</th>\n",
       "      <td>320</td>\n",
       "      <td>Коммунистический проспект, Южно-Сахалинск, Сах...</td>\n",
       "      <td>KOMMUN. PR., 32        YUZHNO SAKHAL</td>\n",
       "      <td>46.959413</td>\n",
       "      <td>142.741113</td>\n",
       "      <td>южно сахалинск</td>\n",
       "    </tr>\n",
       "    <tr>\n",
       "      <th>3</th>\n",
       "      <td>320</td>\n",
       "      <td>Ленинградский проспект, 76А, Москва, Россия, 1...</td>\n",
       "      <td>LENINGRADSKIY PR.,76A  MOSCOW</td>\n",
       "      <td>55.805827</td>\n",
       "      <td>37.515146</td>\n",
       "      <td>москва</td>\n",
       "    </tr>\n",
       "    <tr>\n",
       "      <th>4</th>\n",
       "      <td>320</td>\n",
       "      <td>Гвардейская площадь, 2, Норильск, Красноярский...</td>\n",
       "      <td>GVARDEYSKAYA PL., 2    NORILSK</td>\n",
       "      <td>69.343541</td>\n",
       "      <td>88.211228</td>\n",
       "      <td>норильск</td>\n",
       "    </tr>\n",
       "  </tbody>\n",
       "</table>\n",
       "</div>"
      ],
      "text/plain": [
       "   0-bank_base                                        address_rus  \\\n",
       "0          320  улица А.О. Емельянова, 34, Южно-Сахалинск, Сах...   \n",
       "1          320  Комсомольская улица, 259, Южно-Сахалинск, Саха...   \n",
       "2          320  Коммунистический проспект, Южно-Сахалинск, Сах...   \n",
       "3          320  Ленинградский проспект, 76А, Москва, Россия, 1...   \n",
       "4          320  Гвардейская площадь, 2, Норильск, Красноярский...   \n",
       "\n",
       "                                  address      6-lat      6-long  \\\n",
       "0  EMELYANOVA,34          Y-SAKHALINSK     46.940995  142.738319   \n",
       "1  KOMSOMOLSKAYA,259B     Y.SAKHALINSK     46.937353  142.753348   \n",
       "2  KOMMUN. PR., 32        YUZHNO SAKHAL    46.959413  142.741113   \n",
       "3  LENINGRADSKIY PR.,76A  MOSCOW           55.805827   37.515146   \n",
       "4  GVARDEYSKAYA PL., 2    NORILSK          69.343541   88.211228   \n",
       "\n",
       "             city  \n",
       "0  южно сахалинск  \n",
       "1  южно сахалинск  \n",
       "2  южно сахалинск  \n",
       "3          москва  \n",
       "4        норильск  "
      ]
     },
     "execution_count": 18,
     "metadata": {},
     "output_type": "execute_result"
    }
   ],
   "source": [
    "data_all.head()"
   ]
  },
  {
   "cell_type": "markdown",
   "metadata": {},
   "source": [
    "### Извлечение информации о отделениях банков"
   ]
  },
  {
   "cell_type": "code",
   "execution_count": 40,
   "metadata": {},
   "outputs": [],
   "source": [
    "def extract_time_schedule(el):\n",
    "    s = 1000\n",
    "    f = -1\n",
    "    weekend = 0\n",
    "    stop = 0\n",
    "    if el['type'] == 'atm':\n",
    "        s, f, weekend = 0, 24, 1\n",
    "    for sch in ['schedule_general', 'schedule_private_person', 'schedule_entities', 'schedule_vip']:\n",
    "        stop |= el[sch].find('перерыв') > 0\n",
    "        s = min([s] + list(map(int, re.findall('\\d', el[sch]))))\n",
    "        f = max([f] + list(map(int, re.findall('\\d', el[sch]))))\n",
    "        if el[sch].find('сб') > -1 or el[sch].find('вс') > -1:\n",
    "            weekend = 1\n",
    "    return s, f, weekend, stop\n",
    "\n",
    "def extract_desc(desc, data, name, debug=0):\n",
    "    dots = []\n",
    "    for ind, item in enumerate(desc):\n",
    "        if item['longitude'] is not None and item['latitude'] is not None and len(item['longitude']) != 0 and len(item['latitude']) != 0:\n",
    "            dots.append([item['longitude'], item['latitude']])\n",
    "        else:\n",
    "            dots.append([1000000, 10000000])\n",
    "\n",
    "    knc = KNeighborsClassifier()\n",
    "    knc.fit(X=dots , y=np.ones(len(dots)))\n",
    "\n",
    "    ds, i_s = knc.kneighbors(X=list(zip(data['6-long'].values, data['6-lat'].values)), n_neighbors=5)\n",
    "\n",
    "    matched = []\n",
    "    for ind, item in enumerate(zip(ds, i_s)):\n",
    "        d, i = item\n",
    "        if debug == 0:\n",
    "            print('--------------------------------------------', ind)\n",
    "            print(d)\n",
    "            print('BANKI.RU:', desc[i[0]]['longitude'], desc[i[0]]['latitude'], desc[i[0]]['address'])\n",
    "            print('ADDRESS_RUS:', data['6-long'].iloc[ind], data['6-lat'].iloc[ind], data['address_rus'].iloc[ind])\n",
    "            print('ADDRESS:', data['address'].iloc[ind])\n",
    "        args = {\n",
    "            'active': 0,\n",
    "            'type': '',\n",
    "            'time_schedule_s': 0,\n",
    "            'time_schedule_f': 0,\n",
    "            'time_schedule_week': 0,\n",
    "            'time_schedule_stop': 0,\n",
    "            'metro_name': 0,\n",
    "            'without_weekend': 0,\n",
    "            'is_round_the_clock': 0,\n",
    "            'is_works_as_shop': 0,\n",
    "            'is_at_closed_place': 0,\n",
    "            'actual': 0,\n",
    "            'comment_to_address': '',\n",
    "            'bank_name': name,\n",
    "            'index': data.index[ind],\n",
    "        }\n",
    "        if d[0] < 5e-3:\n",
    "            el = desc[i[0]]\n",
    "            a = extract_time_schedule(el)\n",
    "            args = {\n",
    "                'active': int(el['active']),\n",
    "                'type': el['type'],\n",
    "                'time_schedule_s': a[0],\n",
    "                'time_schedule_f': a[1],\n",
    "                'time_schedule_week': a[2],\n",
    "                'time_schedule_stop': a[3],\n",
    "                'metro_name': int(len(el['metro_name']) != 0),\n",
    "                'without_weekend': el['without_weekend'],\n",
    "                'is_round_the_clock': int(el['is_round_the_clock']),\n",
    "                'is_works_as_shop': int(el['is_works_as_shop']),\n",
    "                'is_at_closed_place': int(el['is_at_closed_place']),\n",
    "                'actual': 1,\n",
    "                'comment_to_address': el['comment_to_address'],\n",
    "                'bank_name': name,\n",
    "                'index': data.index[ind],\n",
    "            }\n",
    "            matched.append(args)\n",
    "            \n",
    "            if debug == 1:\n",
    "                print('--------------------------------------------', ind)\n",
    "                print(d)\n",
    "                print('BANKI.RU:', desc[i[0]]['longitude'], desc[i[0]]['latitude'], desc[i[0]]['address'])\n",
    "                print('ADDRESS_RUS:', data['6-long'].iloc[ind], data['6-lat'].iloc[ind], data['address_rus'].iloc[ind])\n",
    "                print('ADDRESS:', data['address'].iloc[ind])\n",
    "            continue\n",
    "        elif debug == 2:\n",
    "            print('--------------------------------------------', ind)\n",
    "            print(d)\n",
    "            print('BANKI.RU:', desc[i[0]]['longitude'], desc[i[0]]['latitude'], desc[i[0]]['address'])\n",
    "            print('ADDRESS_RUS:', data['6-long'].iloc[ind], data['6-lat'].iloc[ind], data['address_rus'].iloc[ind])\n",
    "            print('ADDRESS:', data['address'].iloc[ind])\n",
    "        matched.append(args)\n",
    "    return matched"
   ]
  },
  {
   "cell_type": "code",
   "execution_count": 41,
   "metadata": {},
   "outputs": [
    {
     "name": "stderr",
     "output_type": "stream",
     "text": [
      "100%|██████████| 280/280 [00:02<00:00, 115.20it/s]\n"
     ]
    }
   ],
   "source": [
    "path = 'banki.ru/desc/'\n",
    "onlyfiles = sorted([f for f in listdir(path) if isfile(join(path, f))])\n",
    "all_descs = []\n",
    "for f in tqdm(onlyfiles):\n",
    "    fd = open(path + f)\n",
    "    all_descs += json.load(fd)\n",
    "    fd.close()"
   ]
  },
  {
   "cell_type": "code",
   "execution_count": 91,
   "metadata": {},
   "outputs": [],
   "source": [
    "banks = {\n",
    "    'Росбанк': 80830,\n",
    "    'Ак Барс': 10220,\n",
    "    'Альфа-Банк': 19420,\n",
    "    'Газпромбанк': 31855,\n",
    "    'Райффайзенбанк': 320,\n",
    "    'Россельхозбанк': 4965,\n",
    "    'Банк Уралсиб': 54780,\n",
    "}\n",
    "bank_dict = {}\n",
    "for item in all_descs:\n",
    "    bank_dict[item['bank_name']] = item['bank_id']"
   ]
  },
  {
   "cell_type": "code",
   "execution_count": 93,
   "metadata": {},
   "outputs": [
    {
     "name": "stdout",
     "output_type": "stream",
     "text": [
      "Банк Уралсиб\n",
      "0.28440366972477066\n"
     ]
    },
    {
     "name": "stderr",
     "output_type": "stream",
     "text": [
      "/home/hedgehogues/anaconda3/envs/ozon/lib/python3.6/site-packages/sklearn/utils/validation.py:558: FutureWarning: Beginning in version 0.22, arrays of bytes/strings will be converted to decimal numbers if dtype='numeric'. It is recommended that you convert the array to a float dtype before using it in scikit-learn, for example by using your_array = your_array.astype(np.float64).\n",
      "  FutureWarning)\n",
      "/home/hedgehogues/anaconda3/envs/ozon/lib/python3.6/site-packages/sklearn/utils/validation.py:558: FutureWarning: Beginning in version 0.22, arrays of bytes/strings will be converted to decimal numbers if dtype='numeric'. It is recommended that you convert the array to a float dtype before using it in scikit-learn, for example by using your_array = your_array.astype(np.float64).\n",
      "  FutureWarning)\n"
     ]
    }
   ],
   "source": [
    "ress = []\n",
    "for i, name in enumerate(banks):\n",
    "    if i != 6:\n",
    "        continue\n",
    "    print(name)\n",
    "    descs = []\n",
    "    for item in all_descs:\n",
    "        if item['bank_name'] == name:\n",
    "            descs.append(item)\n",
    "    x = extract_desc(descs, data_all[data_all['0-bank_base'] == banks[name]], name, -1)\n",
    "    print(len([1 for item in x if item['actual']]) / len(descs))\n",
    "    ress += x"
   ]
  },
  {
   "cell_type": "code",
   "execution_count": 88,
   "metadata": {},
   "outputs": [],
   "source": [
    "answ = {}\n",
    "for res in ress:\n",
    "    answ[res['index']] = res\n",
    "    \n",
    "pd.concat([pd.DataFrame(answ).T, data_all], axis=1, sort=False)"
   ]
  }
 ],
 "metadata": {
  "kernelspec": {
   "display_name": "Python 3",
   "language": "python",
   "name": "python3"
  },
  "language_info": {
   "codemirror_mode": {
    "name": "ipython",
    "version": 3
   },
   "file_extension": ".py",
   "mimetype": "text/x-python",
   "name": "python",
   "nbconvert_exporter": "python",
   "pygments_lexer": "ipython3",
   "version": "3.6.8"
  }
 },
 "nbformat": 4,
 "nbformat_minor": 2
}
