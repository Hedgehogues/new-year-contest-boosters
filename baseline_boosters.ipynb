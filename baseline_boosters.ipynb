{
 "cells": [
  {
   "cell_type": "code",
   "execution_count": 1,
   "metadata": {},
   "outputs": [],
   "source": [
    "import pandas as pd\n",
    "import numpy as np\n",
    "from math import sin, cos, sqrt, atan2, radians\n",
    "from tqdm import tqdm\n",
    "from sklearn.neighbors import KNeighborsClassifier\n",
    "from sklearn.metrics import mean_squared_error\n",
    "import lightgbm as lgb\n",
    "from sklearn.model_selection import train_test_split"
   ]
  },
  {
   "cell_type": "code",
   "execution_count": 2,
   "metadata": {},
   "outputs": [],
   "source": [
    "def rmse(y_true, y_pred):\n",
    "    return sqrt(mean_squared_error(y_true, y_pred))"
   ]
  },
  {
   "cell_type": "code",
   "execution_count": 3,
   "metadata": {},
   "outputs": [],
   "source": [
    "train = pd.read_csv('data/train.csv', index_col=0)"
   ]
  },
  {
   "cell_type": "code",
   "execution_count": 4,
   "metadata": {},
   "outputs": [],
   "source": [
    "test = pd.read_csv('data/test.csv', index_col=0)"
   ]
  },
  {
   "cell_type": "code",
   "execution_count": 5,
   "metadata": {},
   "outputs": [],
   "source": [
    "train['isTrain'] = True\n",
    "test['isTrain'] = False"
   ]
  },
  {
   "cell_type": "code",
   "execution_count": 6,
   "metadata": {},
   "outputs": [],
   "source": [
    "X = train.append(test, sort=False)"
   ]
  },
  {
   "cell_type": "code",
   "execution_count": 7,
   "metadata": {},
   "outputs": [
    {
     "data": {
      "text/html": [
       "<div>\n",
       "<style scoped>\n",
       "    .dataframe tbody tr th:only-of-type {\n",
       "        vertical-align: middle;\n",
       "    }\n",
       "\n",
       "    .dataframe tbody tr th {\n",
       "        vertical-align: top;\n",
       "    }\n",
       "\n",
       "    .dataframe thead th {\n",
       "        text-align: right;\n",
       "    }\n",
       "</style>\n",
       "<table border=\"1\" class=\"dataframe\">\n",
       "  <thead>\n",
       "    <tr style=\"text-align: right;\">\n",
       "      <th></th>\n",
       "      <th>count</th>\n",
       "      <th>mean</th>\n",
       "      <th>std</th>\n",
       "      <th>min</th>\n",
       "      <th>25%</th>\n",
       "      <th>50%</th>\n",
       "      <th>75%</th>\n",
       "      <th>max</th>\n",
       "    </tr>\n",
       "  </thead>\n",
       "  <tbody>\n",
       "    <tr>\n",
       "      <th>id</th>\n",
       "      <td>8765.0</td>\n",
       "      <td>4404.586366</td>\n",
       "      <td>2542.532548</td>\n",
       "      <td>1.000000</td>\n",
       "      <td>2207.000000</td>\n",
       "      <td>4403.000000</td>\n",
       "      <td>6603.000000</td>\n",
       "      <td>8811.000000</td>\n",
       "    </tr>\n",
       "    <tr>\n",
       "      <th>atm_group</th>\n",
       "      <td>8765.0</td>\n",
       "      <td>4407.008842</td>\n",
       "      <td>2427.934099</td>\n",
       "      <td>32.000000</td>\n",
       "      <td>1942.000000</td>\n",
       "      <td>5478.000000</td>\n",
       "      <td>5478.000000</td>\n",
       "      <td>8083.000000</td>\n",
       "    </tr>\n",
       "    <tr>\n",
       "      <th>lat</th>\n",
       "      <td>8345.0</td>\n",
       "      <td>54.138304</td>\n",
       "      <td>4.329293</td>\n",
       "      <td>42.057080</td>\n",
       "      <td>52.243997</td>\n",
       "      <td>55.060936</td>\n",
       "      <td>56.116673</td>\n",
       "      <td>69.495093</td>\n",
       "    </tr>\n",
       "    <tr>\n",
       "      <th>long</th>\n",
       "      <td>8345.0</td>\n",
       "      <td>63.500873</td>\n",
       "      <td>32.787366</td>\n",
       "      <td>19.941530</td>\n",
       "      <td>37.851107</td>\n",
       "      <td>49.071694</td>\n",
       "      <td>84.950218</td>\n",
       "      <td>173.706490</td>\n",
       "    </tr>\n",
       "    <tr>\n",
       "      <th>target</th>\n",
       "      <td>6261.0</td>\n",
       "      <td>0.000715</td>\n",
       "      <td>0.085852</td>\n",
       "      <td>-0.145001</td>\n",
       "      <td>-0.061176</td>\n",
       "      <td>-0.015573</td>\n",
       "      <td>0.040149</td>\n",
       "      <td>0.218608</td>\n",
       "    </tr>\n",
       "  </tbody>\n",
       "</table>\n",
       "</div>"
      ],
      "text/plain": [
       "            count         mean          std        min          25%  \\\n",
       "id         8765.0  4404.586366  2542.532548   1.000000  2207.000000   \n",
       "atm_group  8765.0  4407.008842  2427.934099  32.000000  1942.000000   \n",
       "lat        8345.0    54.138304     4.329293  42.057080    52.243997   \n",
       "long       8345.0    63.500873    32.787366  19.941530    37.851107   \n",
       "target     6261.0     0.000715     0.085852  -0.145001    -0.061176   \n",
       "\n",
       "                   50%          75%          max  \n",
       "id         4403.000000  6603.000000  8811.000000  \n",
       "atm_group  5478.000000  5478.000000  8083.000000  \n",
       "lat          55.060936    56.116673    69.495093  \n",
       "long         49.071694    84.950218   173.706490  \n",
       "target       -0.015573     0.040149     0.218608  "
      ]
     },
     "execution_count": 7,
     "metadata": {},
     "output_type": "execute_result"
    }
   ],
   "source": [
    "X.describe().T"
   ]
  },
  {
   "cell_type": "code",
   "execution_count": 8,
   "metadata": {},
   "outputs": [
    {
     "data": {
      "text/html": [
       "<div>\n",
       "<style scoped>\n",
       "    .dataframe tbody tr th:only-of-type {\n",
       "        vertical-align: middle;\n",
       "    }\n",
       "\n",
       "    .dataframe tbody tr th {\n",
       "        vertical-align: top;\n",
       "    }\n",
       "\n",
       "    .dataframe thead th {\n",
       "        text-align: right;\n",
       "    }\n",
       "</style>\n",
       "<table border=\"1\" class=\"dataframe\">\n",
       "  <thead>\n",
       "    <tr style=\"text-align: right;\">\n",
       "      <th></th>\n",
       "      <th>count</th>\n",
       "      <th>unique</th>\n",
       "      <th>top</th>\n",
       "      <th>freq</th>\n",
       "    </tr>\n",
       "  </thead>\n",
       "  <tbody>\n",
       "    <tr>\n",
       "      <th>address</th>\n",
       "      <td>8765</td>\n",
       "      <td>7481</td>\n",
       "      <td>HOROSHEVSKOE SH,V38       MOSKVA</td>\n",
       "      <td>7</td>\n",
       "    </tr>\n",
       "    <tr>\n",
       "      <th>address_rus</th>\n",
       "      <td>8345</td>\n",
       "      <td>6147</td>\n",
       "      <td>квартал В-13, городской округ Волгодонск, Рост...</td>\n",
       "      <td>10</td>\n",
       "    </tr>\n",
       "  </tbody>\n",
       "</table>\n",
       "</div>"
      ],
      "text/plain": [
       "            count unique                                                top  \\\n",
       "address      8765   7481             HOROSHEVSKOE SH,V38       MOSKVA         \n",
       "address_rus  8345   6147  квартал В-13, городской округ Волгодонск, Рост...   \n",
       "\n",
       "            freq  \n",
       "address        7  \n",
       "address_rus   10  "
      ]
     },
     "execution_count": 8,
     "metadata": {},
     "output_type": "execute_result"
    }
   ],
   "source": [
    "X.describe(include='object').T"
   ]
  },
  {
   "cell_type": "markdown",
   "metadata": {},
   "source": [
    "### Количество банкоматов стоящих по одному адресу"
   ]
  },
  {
   "cell_type": "code",
   "execution_count": 9,
   "metadata": {},
   "outputs": [],
   "source": [
    "counts = X.groupby('address_rus')['id'].count().reset_index().rename(columns={'id':'count'})"
   ]
  },
  {
   "cell_type": "code",
   "execution_count": 10,
   "metadata": {},
   "outputs": [],
   "source": [
    "X = pd.merge(X, counts, how='left', on='address_rus')"
   ]
  },
  {
   "cell_type": "code",
   "execution_count": 11,
   "metadata": {},
   "outputs": [
    {
     "data": {
      "text/html": [
       "<div>\n",
       "<style scoped>\n",
       "    .dataframe tbody tr th:only-of-type {\n",
       "        vertical-align: middle;\n",
       "    }\n",
       "\n",
       "    .dataframe tbody tr th {\n",
       "        vertical-align: top;\n",
       "    }\n",
       "\n",
       "    .dataframe thead th {\n",
       "        text-align: right;\n",
       "    }\n",
       "</style>\n",
       "<table border=\"1\" class=\"dataframe\">\n",
       "  <thead>\n",
       "    <tr style=\"text-align: right;\">\n",
       "      <th></th>\n",
       "      <th>id</th>\n",
       "      <th>atm_group</th>\n",
       "      <th>address</th>\n",
       "      <th>address_rus</th>\n",
       "      <th>lat</th>\n",
       "      <th>long</th>\n",
       "      <th>target</th>\n",
       "      <th>isTrain</th>\n",
       "      <th>count</th>\n",
       "    </tr>\n",
       "  </thead>\n",
       "  <tbody>\n",
       "    <tr>\n",
       "      <th>0</th>\n",
       "      <td>8526.0</td>\n",
       "      <td>32.0</td>\n",
       "      <td>EMELYANOVA,34          Y-SAKHALINSK</td>\n",
       "      <td>улица А.О. Емельянова, 34, Южно-Сахалинск, Сах...</td>\n",
       "      <td>46.940995</td>\n",
       "      <td>142.738319</td>\n",
       "      <td>0.011500</td>\n",
       "      <td>True</td>\n",
       "      <td>1.0</td>\n",
       "    </tr>\n",
       "    <tr>\n",
       "      <th>1</th>\n",
       "      <td>8532.0</td>\n",
       "      <td>32.0</td>\n",
       "      <td>KOMSOMOLSKAYA,259B     Y.SAKHALINSK</td>\n",
       "      <td>Комсомольская улица, 259, Южно-Сахалинск, Саха...</td>\n",
       "      <td>46.937353</td>\n",
       "      <td>142.753348</td>\n",
       "      <td>0.029710</td>\n",
       "      <td>True</td>\n",
       "      <td>1.0</td>\n",
       "    </tr>\n",
       "    <tr>\n",
       "      <th>2</th>\n",
       "      <td>8533.0</td>\n",
       "      <td>32.0</td>\n",
       "      <td>KOMMUN. PR., 32        YUZHNO SAKHAL</td>\n",
       "      <td>Коммунистический проспект, Южно-Сахалинск, Сах...</td>\n",
       "      <td>46.959413</td>\n",
       "      <td>142.741113</td>\n",
       "      <td>0.009540</td>\n",
       "      <td>True</td>\n",
       "      <td>1.0</td>\n",
       "    </tr>\n",
       "    <tr>\n",
       "      <th>3</th>\n",
       "      <td>8684.0</td>\n",
       "      <td>32.0</td>\n",
       "      <td>LENINGRADSKIY PR.,76A  MOSCOW</td>\n",
       "      <td>Ленинградский проспект, 76А, Москва, Россия, 1...</td>\n",
       "      <td>55.805827</td>\n",
       "      <td>37.515146</td>\n",
       "      <td>-0.094035</td>\n",
       "      <td>True</td>\n",
       "      <td>1.0</td>\n",
       "    </tr>\n",
       "    <tr>\n",
       "      <th>4</th>\n",
       "      <td>37.0</td>\n",
       "      <td>32.0</td>\n",
       "      <td>GVARDEYSKAYA PL., 2    NORILSK</td>\n",
       "      <td>Гвардейская площадь, 2, Норильск, Красноярский...</td>\n",
       "      <td>69.343541</td>\n",
       "      <td>88.211228</td>\n",
       "      <td>0.079277</td>\n",
       "      <td>True</td>\n",
       "      <td>1.0</td>\n",
       "    </tr>\n",
       "  </tbody>\n",
       "</table>\n",
       "</div>"
      ],
      "text/plain": [
       "       id  atm_group                                 address  \\\n",
       "0  8526.0       32.0  EMELYANOVA,34          Y-SAKHALINSK      \n",
       "1  8532.0       32.0  KOMSOMOLSKAYA,259B     Y.SAKHALINSK      \n",
       "2  8533.0       32.0  KOMMUN. PR., 32        YUZHNO SAKHAL     \n",
       "3  8684.0       32.0  LENINGRADSKIY PR.,76A  MOSCOW            \n",
       "4    37.0       32.0  GVARDEYSKAYA PL., 2    NORILSK           \n",
       "\n",
       "                                         address_rus        lat        long  \\\n",
       "0  улица А.О. Емельянова, 34, Южно-Сахалинск, Сах...  46.940995  142.738319   \n",
       "1  Комсомольская улица, 259, Южно-Сахалинск, Саха...  46.937353  142.753348   \n",
       "2  Коммунистический проспект, Южно-Сахалинск, Сах...  46.959413  142.741113   \n",
       "3  Ленинградский проспект, 76А, Москва, Россия, 1...  55.805827   37.515146   \n",
       "4  Гвардейская площадь, 2, Норильск, Красноярский...  69.343541   88.211228   \n",
       "\n",
       "     target  isTrain  count  \n",
       "0  0.011500     True    1.0  \n",
       "1  0.029710     True    1.0  \n",
       "2  0.009540     True    1.0  \n",
       "3 -0.094035     True    1.0  \n",
       "4  0.079277     True    1.0  "
      ]
     },
     "execution_count": 11,
     "metadata": {},
     "output_type": "execute_result"
    }
   ],
   "source": [
    "X.head()"
   ]
  },
  {
   "cell_type": "markdown",
   "metadata": {},
   "source": [
    "### Расстояния до ближайших банкоматов"
   ]
  },
  {
   "cell_type": "code",
   "execution_count": 15,
   "metadata": {},
   "outputs": [],
   "source": [
    "R = 6373.0 # радиус земли в километрах\n",
    "\n",
    "def distance(x,y):\n",
    "    \"\"\"\n",
    "    Параметры\n",
    "    ----------\n",
    "    x : tuple, широта и долгота первой геокоординаты \n",
    "    y : tuple, широта и долгота второй геокоординаты \n",
    "    \n",
    "    Результат\n",
    "    ----------\n",
    "    result : дистанция в километрах между двумя геокоординатами\n",
    "    \"\"\"\n",
    "    lat_a, long_a, lat_b, long_b = map(radians, [*x,*y])    \n",
    "    dlon = long_b - long_a\n",
    "    dlat = lat_b - lat_a\n",
    "    a = sin(dlat/2)**2 + cos(lat_a) * cos(lat_b) * sin(dlon/2)**2\n",
    "    c = 2 * atan2(sqrt(a), sqrt(1 - a))\n",
    "    return R * c"
   ]
  },
  {
   "cell_type": "code",
   "execution_count": 16,
   "metadata": {},
   "outputs": [],
   "source": [
    "knc = KNeighborsClassifier(metric=distance)"
   ]
  },
  {
   "cell_type": "code",
   "execution_count": 17,
   "metadata": {},
   "outputs": [],
   "source": [
    "dots = X[['lat','long']].dropna()"
   ]
  },
  {
   "cell_type": "code",
   "execution_count": 18,
   "metadata": {},
   "outputs": [
    {
     "data": {
      "text/plain": [
       "KNeighborsClassifier(algorithm='auto', leaf_size=30,\n",
       "           metric=<function distance at 0x7f3f7cb0f9d8>,\n",
       "           metric_params=None, n_jobs=None, n_neighbors=5, p=2,\n",
       "           weights='uniform')"
      ]
     },
     "execution_count": 18,
     "metadata": {},
     "output_type": "execute_result"
    }
   ],
   "source": [
    "knc.fit(X=dots , y=np.ones(dots.shape[0]))"
   ]
  },
  {
   "cell_type": "code",
   "execution_count": 19,
   "metadata": {},
   "outputs": [],
   "source": [
    "distances, indexes = knc.kneighbors(X=dots,n_neighbors=6,)"
   ]
  },
  {
   "cell_type": "code",
   "execution_count": 20,
   "metadata": {},
   "outputs": [],
   "source": [
    "for i in range(1,6):\n",
    "    dots['distance_%s'%i] = distances[:,i]\n",
    "    dots['indexes_%s'%i] = indexes[:,i]"
   ]
  },
  {
   "cell_type": "code",
   "execution_count": 21,
   "metadata": {},
   "outputs": [],
   "source": [
    "dots['mean'] = dots.iloc[:,dots.columns.str.contains('distance')].mean(axis=1)"
   ]
  },
  {
   "cell_type": "code",
   "execution_count": 22,
   "metadata": {},
   "outputs": [],
   "source": [
    "X = pd.concat([X,dots], axis=1)"
   ]
  },
  {
   "cell_type": "markdown",
   "metadata": {},
   "source": [
    "### Город размещения"
   ]
  },
  {
   "cell_type": "code",
   "execution_count": 24,
   "metadata": {},
   "outputs": [],
   "source": [
    "X['city'] = X[~X.address_rus.isnull()].address_rus.apply(lambda x: x.split(',')[2]) "
   ]
  },
  {
   "cell_type": "code",
   "execution_count": 22,
   "metadata": {},
   "outputs": [],
   "source": [
    "rare_cities = X.city.value_counts()[(X.city.value_counts() < 20) ==True].index"
   ]
  },
  {
   "cell_type": "code",
   "execution_count": 23,
   "metadata": {},
   "outputs": [],
   "source": [
    "X.city = X.city.apply(lambda x: 'RARE' if x in rare_cities else x)"
   ]
  },
  {
   "cell_type": "code",
   "execution_count": 24,
   "metadata": {},
   "outputs": [],
   "source": [
    "X.city= X.city.rank().fillna(-1)"
   ]
  },
  {
   "cell_type": "code",
   "execution_count": 25,
   "metadata": {},
   "outputs": [],
   "source": [
    "X_ = X[X.isTrain][['atm_group', 'lat', 'long',  'count', 'distance_1',\n",
    "                    'distance_2',  'distance_3',  'distance_4', 'distance_5',\n",
    "                    'indexes_5', 'mean', 'city']]\n",
    "Y_ = X.loc[X.isTrain, 'target']"
   ]
  },
  {
   "cell_type": "code",
   "execution_count": 26,
   "metadata": {},
   "outputs": [],
   "source": [
    "X_train, X_valid, Y_train, Y_valid = train_test_split(X_, Y_, test_size=0.25, random_state=1)"
   ]
  },
  {
   "cell_type": "code",
   "execution_count": 35,
   "metadata": {},
   "outputs": [],
   "source": [
    "gbm = lgb.LGBMRegressor(objective = 'regression',  \n",
    "                            max_depth = 3,\n",
    "                            colsample_bytre = 0.8,\n",
    "                            subsample = 0.8, \n",
    "                            learning_rate = 0.1,\n",
    "                            n_estimators = 300, random_state=1)"
   ]
  },
  {
   "cell_type": "code",
   "execution_count": 36,
   "metadata": {},
   "outputs": [
    {
     "name": "stdout",
     "output_type": "stream",
     "text": [
      "[1]\tvalid_0's l2: 0.00627427\tvalid_0's rmse: 0.0792103\n",
      "Training until validation scores don't improve for 5 rounds.\n",
      "[2]\tvalid_0's l2: 0.00555286\tvalid_0's rmse: 0.0745175\n",
      "[3]\tvalid_0's l2: 0.00497472\tvalid_0's rmse: 0.0705317\n",
      "[4]\tvalid_0's l2: 0.00450262\tvalid_0's rmse: 0.0671016\n",
      "[5]\tvalid_0's l2: 0.00411768\tvalid_0's rmse: 0.0641692\n",
      "[6]\tvalid_0's l2: 0.00380687\tvalid_0's rmse: 0.0616998\n",
      "[7]\tvalid_0's l2: 0.003551\tvalid_0's rmse: 0.0595902\n",
      "[8]\tvalid_0's l2: 0.00331214\tvalid_0's rmse: 0.0575512\n",
      "[9]\tvalid_0's l2: 0.00314014\tvalid_0's rmse: 0.056037\n",
      "[10]\tvalid_0's l2: 0.00300172\tvalid_0's rmse: 0.054788\n",
      "[11]\tvalid_0's l2: 0.00288327\tvalid_0's rmse: 0.0536961\n",
      "[12]\tvalid_0's l2: 0.00276677\tvalid_0's rmse: 0.0526001\n",
      "[13]\tvalid_0's l2: 0.00268019\tvalid_0's rmse: 0.0517706\n",
      "[14]\tvalid_0's l2: 0.00259976\tvalid_0's rmse: 0.0509879\n",
      "[15]\tvalid_0's l2: 0.0025416\tvalid_0's rmse: 0.0504143\n",
      "[16]\tvalid_0's l2: 0.00249533\tvalid_0's rmse: 0.0499533\n",
      "[17]\tvalid_0's l2: 0.00245775\tvalid_0's rmse: 0.0495757\n",
      "[18]\tvalid_0's l2: 0.00241735\tvalid_0's rmse: 0.0491666\n",
      "[19]\tvalid_0's l2: 0.00238695\tvalid_0's rmse: 0.0488564\n",
      "[20]\tvalid_0's l2: 0.00235907\tvalid_0's rmse: 0.0485702\n",
      "[21]\tvalid_0's l2: 0.00234164\tvalid_0's rmse: 0.0483905\n",
      "[22]\tvalid_0's l2: 0.00232287\tvalid_0's rmse: 0.0481961\n",
      "[23]\tvalid_0's l2: 0.0023021\tvalid_0's rmse: 0.0479803\n",
      "[24]\tvalid_0's l2: 0.00229276\tvalid_0's rmse: 0.0478828\n",
      "[25]\tvalid_0's l2: 0.00228011\tvalid_0's rmse: 0.0477505\n",
      "[26]\tvalid_0's l2: 0.00226566\tvalid_0's rmse: 0.047599\n",
      "[27]\tvalid_0's l2: 0.00225853\tvalid_0's rmse: 0.047524\n",
      "[28]\tvalid_0's l2: 0.00225087\tvalid_0's rmse: 0.0474433\n",
      "[29]\tvalid_0's l2: 0.00224508\tvalid_0's rmse: 0.0473823\n",
      "[30]\tvalid_0's l2: 0.00223679\tvalid_0's rmse: 0.0472947\n",
      "[31]\tvalid_0's l2: 0.00222833\tvalid_0's rmse: 0.0472051\n",
      "[32]\tvalid_0's l2: 0.00222035\tvalid_0's rmse: 0.0471206\n",
      "[33]\tvalid_0's l2: 0.00221483\tvalid_0's rmse: 0.047062\n",
      "[34]\tvalid_0's l2: 0.00220896\tvalid_0's rmse: 0.0469996\n",
      "[35]\tvalid_0's l2: 0.00220691\tvalid_0's rmse: 0.0469778\n",
      "[36]\tvalid_0's l2: 0.00220432\tvalid_0's rmse: 0.0469502\n",
      "[37]\tvalid_0's l2: 0.00220106\tvalid_0's rmse: 0.0469154\n",
      "[38]\tvalid_0's l2: 0.00219872\tvalid_0's rmse: 0.0468905\n",
      "[39]\tvalid_0's l2: 0.00219181\tvalid_0's rmse: 0.0468167\n",
      "[40]\tvalid_0's l2: 0.002189\tvalid_0's rmse: 0.0467867\n",
      "[41]\tvalid_0's l2: 0.00218744\tvalid_0's rmse: 0.0467701\n",
      "[42]\tvalid_0's l2: 0.00218344\tvalid_0's rmse: 0.0467273\n",
      "[43]\tvalid_0's l2: 0.00218383\tvalid_0's rmse: 0.0467315\n",
      "[44]\tvalid_0's l2: 0.00218073\tvalid_0's rmse: 0.0466983\n",
      "[45]\tvalid_0's l2: 0.00217606\tvalid_0's rmse: 0.0466482\n",
      "[46]\tvalid_0's l2: 0.00216955\tvalid_0's rmse: 0.0465784\n",
      "[47]\tvalid_0's l2: 0.00216863\tvalid_0's rmse: 0.0465685\n",
      "[48]\tvalid_0's l2: 0.00216715\tvalid_0's rmse: 0.0465527\n",
      "[49]\tvalid_0's l2: 0.00216719\tvalid_0's rmse: 0.0465531\n",
      "[50]\tvalid_0's l2: 0.00216544\tvalid_0's rmse: 0.0465343\n",
      "[51]\tvalid_0's l2: 0.00216192\tvalid_0's rmse: 0.0464965\n",
      "[52]\tvalid_0's l2: 0.00215481\tvalid_0's rmse: 0.0464199\n",
      "[53]\tvalid_0's l2: 0.00214826\tvalid_0's rmse: 0.0463494\n",
      "[54]\tvalid_0's l2: 0.00214613\tvalid_0's rmse: 0.0463263\n",
      "[55]\tvalid_0's l2: 0.00214204\tvalid_0's rmse: 0.0462822\n",
      "[56]\tvalid_0's l2: 0.00214296\tvalid_0's rmse: 0.0462922\n",
      "[57]\tvalid_0's l2: 0.00214103\tvalid_0's rmse: 0.0462713\n",
      "[58]\tvalid_0's l2: 0.00213991\tvalid_0's rmse: 0.0462592\n",
      "[59]\tvalid_0's l2: 0.00213757\tvalid_0's rmse: 0.0462338\n",
      "[60]\tvalid_0's l2: 0.00213714\tvalid_0's rmse: 0.0462292\n",
      "[61]\tvalid_0's l2: 0.00213778\tvalid_0's rmse: 0.0462361\n",
      "[62]\tvalid_0's l2: 0.00213309\tvalid_0's rmse: 0.0461854\n",
      "[63]\tvalid_0's l2: 0.00213313\tvalid_0's rmse: 0.0461859\n",
      "[64]\tvalid_0's l2: 0.00213091\tvalid_0's rmse: 0.0461618\n",
      "[65]\tvalid_0's l2: 0.00212864\tvalid_0's rmse: 0.0461372\n",
      "[66]\tvalid_0's l2: 0.002126\tvalid_0's rmse: 0.0461086\n",
      "[67]\tvalid_0's l2: 0.00212662\tvalid_0's rmse: 0.0461153\n",
      "[68]\tvalid_0's l2: 0.00212422\tvalid_0's rmse: 0.0460892\n",
      "[69]\tvalid_0's l2: 0.00212268\tvalid_0's rmse: 0.0460726\n",
      "[70]\tvalid_0's l2: 0.00211657\tvalid_0's rmse: 0.0460062\n",
      "[71]\tvalid_0's l2: 0.00211623\tvalid_0's rmse: 0.0460025\n",
      "[72]\tvalid_0's l2: 0.00211586\tvalid_0's rmse: 0.0459984\n",
      "[73]\tvalid_0's l2: 0.00211414\tvalid_0's rmse: 0.0459798\n",
      "[74]\tvalid_0's l2: 0.00211235\tvalid_0's rmse: 0.0459603\n",
      "[75]\tvalid_0's l2: 0.00211152\tvalid_0's rmse: 0.0459513\n",
      "[76]\tvalid_0's l2: 0.00211071\tvalid_0's rmse: 0.0459425\n",
      "[77]\tvalid_0's l2: 0.00210726\tvalid_0's rmse: 0.0459049\n",
      "[78]\tvalid_0's l2: 0.00210763\tvalid_0's rmse: 0.045909\n",
      "[79]\tvalid_0's l2: 0.00210864\tvalid_0's rmse: 0.0459199\n",
      "[80]\tvalid_0's l2: 0.00210884\tvalid_0's rmse: 0.0459221\n",
      "[81]\tvalid_0's l2: 0.00210912\tvalid_0's rmse: 0.0459251\n",
      "[82]\tvalid_0's l2: 0.00210736\tvalid_0's rmse: 0.045906\n",
      "Early stopping, best iteration is:\n",
      "[77]\tvalid_0's l2: 0.00210726\tvalid_0's rmse: 0.0459049\n"
     ]
    },
    {
     "data": {
      "text/plain": [
       "LGBMRegressor(boosting_type='gbdt', class_weight=None, colsample_bytre=0.8,\n",
       "       colsample_bytree=1.0, importance_type='split', learning_rate=0.1,\n",
       "       max_depth=3, min_child_samples=20, min_child_weight=0.001,\n",
       "       min_split_gain=0.0, n_estimators=300, n_jobs=-1, num_leaves=31,\n",
       "       objective='regression', random_state=1, reg_alpha=0.0,\n",
       "       reg_lambda=0.0, silent=True, subsample=0.8,\n",
       "       subsample_for_bin=200000, subsample_freq=0)"
      ]
     },
     "execution_count": 36,
     "metadata": {},
     "output_type": "execute_result"
    }
   ],
   "source": [
    "gbm.fit(X_train, Y_train, eval_set=[(X_valid, Y_valid)], eval_metric='rmse', early_stopping_rounds=5)"
   ]
  },
  {
   "cell_type": "code",
   "execution_count": 37,
   "metadata": {},
   "outputs": [
    {
     "data": {
      "text/plain": [
       "<matplotlib.axes._subplots.AxesSubplot at 0x7fd4705da358>"
      ]
     },
     "execution_count": 37,
     "metadata": {},
     "output_type": "execute_result"
    },
    {
     "data": {
      "image/png": "[encoded data removed]",
      "text/plain": [
       "<Figure size 432x288 with 1 Axes>"
      ]
     },
     "metadata": {
      "needs_background": "light"
     },
     "output_type": "display_data"
    }
   ],
   "source": [
    "%matplotlib inline\n",
    "lgb.plot_importance(gbm)"
   ]
  },
  {
   "cell_type": "code",
   "execution_count": 38,
   "metadata": {},
   "outputs": [
    {
     "data": {
      "text/plain": [
       "0.045904893145415314"
      ]
     },
     "execution_count": 38,
     "metadata": {},
     "output_type": "execute_result"
    }
   ],
   "source": [
    "rmse(Y_valid, gbm.predict(X_valid))"
   ]
  },
  {
   "cell_type": "code",
   "execution_count": 31,
   "metadata": {},
   "outputs": [
    {
     "data": {
      "text/plain": [
       "0.08463725683992336"
      ]
     },
     "execution_count": 31,
     "metadata": {},
     "output_type": "execute_result"
    }
   ],
   "source": [
    "rmse(Y_valid, np.zeros(Y_valid.shape[0]))"
   ]
  }
 ],
 "metadata": {
  "kernelspec": {
   "display_name": "Python 3",
   "language": "python",
   "name": "python3"
  },
  "language_info": {
   "codemirror_mode": {
    "name": "ipython",
    "version": 3
   },
   "file_extension": ".py",
   "mimetype": "text/x-python",
   "name": "python",
   "nbconvert_exporter": "python",
   "pygments_lexer": "ipython3",
   "version": "3.6.6"
  }
 },
 "nbformat": 4,
 "nbformat_minor": 2
}
