{
 "cells": [
  {
   "cell_type": "code",
   "execution_count": 1,
   "metadata": {},
   "outputs": [],
   "source": [
    "import pandas as pd\n",
    "import numpy as np\n",
    "from math import sin, cos, sqrt, atan2, radians\n",
    "from tqdm import tqdm\n",
    "from sklearn.neighbors import KNeighborsClassifier\n",
    "from sklearn.metrics import mean_squared_error\n",
    "import lightgbm as lgb\n",
    "import json\n",
    "from sklearn.model_selection import train_test_split\n",
    "from matplotlib import pyplot as plt\n",
    "from matplotlib.markers import MarkerStyle\n",
    "from postal.parser import parse_address\n",
    "from postal.parser import parse_address as libpostal_parser_address\n",
    "from tqdm import tqdm\n",
    "from sklearn.ensemble import RandomForestRegressor\n",
    "from xgboost import XGBRegressor\n",
    "from sklearn.cluster import KMeans\n",
    "from sklearn.linear_model import LinearRegression\n",
    "from sklearn.preprocessing import PolynomialFeatures\n",
    "from scipy.interpolate import spline\n",
    "from sklearn.cluster import DBSCAN\n",
    "from collections import Counter\n",
    "from transliterate import translit, get_available_language_codes\n",
    "from enum import Enum\n",
    "\n",
    "from rating.validator import union_addresses, extract_addresses, CityValidator, StructValidator\n",
    "from rating.parser import InvalidAddressesLibpostalParser, InvalidAddressCityParser\n",
    "from rating.ya_maps_client import YandexApiClient, Request, Response\n",
    "from rating.address import Address\n",
    "from rating.utils import get_city_\n",
    "\n",
    "import requests \n",
    "\n",
    "\n",
    "\n",
    "fontsize = 18\n",
    "figsize = (15,10)\n",
    "plot_alpha = 0.3\n",
    "linewidth = 4\n",
    "\n",
    "pd.set_option('display.max_columns', 500)\n",
    "pd.set_option('display.max_rows', 500)"
   ]
  },
  {
   "cell_type": "code",
   "execution_count": 2,
   "metadata": {},
   "outputs": [],
   "source": [
    "def rmse(y_true, y_pred):\n",
    "    return sqrt(mean_squared_error(y_true, y_pred))"
   ]
  },
  {
   "cell_type": "code",
   "execution_count": 3,
   "metadata": {},
   "outputs": [],
   "source": [
    "train = pd.read_csv('data/train.csv', index_col=0)\n",
    "test = pd.read_csv('data/test.csv', index_col=0)\n",
    "test = test.rename(columns={'atm_group': '0-bank'})\n",
    "train = train.rename(columns={'atm_group': '0-bank'})\n",
    "banks = np.uint(np.sort(test['0-bank'].unique() * 10))\n",
    "\n",
    "cities = pd.read_csv(open('data/cities.csv'))"
   ]
  },
  {
   "cell_type": "code",
   "execution_count": 4,
   "metadata": {},
   "outputs": [],
   "source": [
    "test = test.rename(columns={'lat': '6-lat', 'long': '6-long'})\n",
    "train = train.rename(columns={'lat': '6-lat', 'long': '6-long'})"
   ]
  },
  {
   "cell_type": "markdown",
   "metadata": {},
   "source": [
    "# Prepare"
   ]
  },
  {
   "cell_type": "code",
   "execution_count": 5,
   "metadata": {},
   "outputs": [],
   "source": [
    "test['0-bank'] = np.uint(test['0-bank'] * 10)\n",
    "train['0-bank'] = np.uint(train['0-bank'] * 10)\n",
    "columns_for_drop = ['address', 'address_rus']"
   ]
  },
  {
   "cell_type": "markdown",
   "metadata": {},
   "source": [
    "### Запоминаем индексы"
   ]
  },
  {
   "cell_type": "code",
   "execution_count": 6,
   "metadata": {},
   "outputs": [],
   "source": [
    "train['is_train'] = True\n",
    "test['is_train'] = False\n",
    "test['index'] = test.index + 1\n",
    "train['index'] = train.index + 1\n",
    "train['train_index'] = train.index + 1\n",
    "test['test_index'] = test.index + 1\n",
    "train['test_index'] = 0\n",
    "test['train_index'] = 0\n",
    "train['index'] = train.index"
   ]
  },
  {
   "cell_type": "markdown",
   "metadata": {},
   "source": [
    "### Создаём общие данные tran-test"
   ]
  },
  {
   "cell_type": "code",
   "execution_count": 7,
   "metadata": {},
   "outputs": [],
   "source": [
    "data_all = train.append(test, sort=False)"
   ]
  },
  {
   "cell_type": "code",
   "execution_count": 8,
   "metadata": {},
   "outputs": [],
   "source": [
    "data_all['address_fail'] = 0\n",
    "data_all.at[data_all['address_rus'].isnull(), 'address_fail'] = 1\n",
    "data_all['base_target'] = data_all['target']\n",
    "data_all.at[(data_all['address_fail'] == 1) & (data_all['is_train']), 'target'] = 0"
   ]
  },
  {
   "cell_type": "code",
   "execution_count": 9,
   "metadata": {},
   "outputs": [],
   "source": [
    "data_all['address_rus'] = data_all['address_rus'].fillna('')"
   ]
  },
  {
   "cell_type": "code",
   "execution_count": 10,
   "metadata": {},
   "outputs": [
    {
     "name": "stderr",
     "output_type": "stream",
     "text": [
      "/home/hedgehogues/anaconda3/envs/ozon/lib/python3.6/site-packages/ipykernel_launcher.py:2: SettingWithCopyWarning: \n",
      "A value is trying to be set on a copy of a slice from a DataFrame.\n",
      "Try using .loc[row_indexer,col_indexer] = value instead\n",
      "\n",
      "See the caveats in the documentation: http://pandas.pydata.org/pandas-docs/stable/indexing.html#indexing-view-versus-copy\n",
      "  \n",
      "/home/hedgehogues/anaconda3/envs/ozon/lib/python3.6/site-packages/ipykernel_launcher.py:3: SettingWithCopyWarning: \n",
      "A value is trying to be set on a copy of a slice from a DataFrame.\n",
      "Try using .loc[row_indexer,col_indexer] = value instead\n",
      "\n",
      "See the caveats in the documentation: http://pandas.pydata.org/pandas-docs/stable/indexing.html#indexing-view-versus-copy\n",
      "  This is separate from the ipykernel package so we can avoid doing imports until\n"
     ]
    }
   ],
   "source": [
    "y_all = data_all[['target', 'base_target', 'is_train', 'address_fail']]\n",
    "y_all['index'] = data_all['index']\n",
    "y_all['id'] = data_all['id']\n",
    "data_all = data_all.drop(['target', 'base_target'], axis=1)"
   ]
  },
  {
   "cell_type": "code",
   "execution_count": 11,
   "metadata": {},
   "outputs": [],
   "source": [
    "counts = data_all.groupby('address_rus')['id'].count().reset_index().rename(columns={'id':'the_same_address_terminals'})\n",
    "data_all = pd.merge(data_all, counts, how='left', on='address_rus')\n",
    "data_all.at[data_all['address_fail'] == 1, 'the_same_address_terminals'] = 0"
   ]
  },
  {
   "cell_type": "markdown",
   "metadata": {},
   "source": [
    "### Fillna for address_rus"
   ]
  },
  {
   "cell_type": "code",
   "execution_count": 12,
   "metadata": {},
   "outputs": [],
   "source": [
    "data_all.at[data_all['address_fail'], 'address_rus'] = data_all['address_rus'].fillna(\"\")"
   ]
  },
  {
   "cell_type": "markdown",
   "metadata": {},
   "source": [
    "### Fillna for lat, long"
   ]
  },
  {
   "cell_type": "code",
   "execution_count": 13,
   "metadata": {},
   "outputs": [],
   "source": [
    "data_all.at[:, ['6-lat', '6-long']] = data_all[['6-lat', '6-long']].fillna(0)"
   ]
  },
  {
   "cell_type": "markdown",
   "metadata": {},
   "source": [
    "### Запоминаем ID-Index"
   ]
  },
  {
   "cell_type": "code",
   "execution_count": 14,
   "metadata": {},
   "outputs": [],
   "source": [
    "data_all['id'] = data_all['id'].astype(np.uint)"
   ]
  },
  {
   "cell_type": "code",
   "execution_count": 15,
   "metadata": {},
   "outputs": [],
   "source": [
    "data_all = data_all.rename(columns={'id': '7-id', 'index': '7-index'})\n",
    "y_all = y_all.rename(columns={'id': '7-id', 'index': '7-index'})"
   ]
  },
  {
   "cell_type": "markdown",
   "metadata": {},
   "source": [
    "### Создаём one-hot-encoding for bank"
   ]
  },
  {
   "cell_type": "code",
   "execution_count": 17,
   "metadata": {},
   "outputs": [],
   "source": [
    "data_all['0-bank_base'] = data_all['0-bank']\n",
    "data_all = pd.get_dummies(data_all, columns=['0-bank'], prefix='0-bank')"
   ]
  },
  {
   "cell_type": "markdown",
   "metadata": {},
   "source": [
    "# Research"
   ]
  },
  {
   "cell_type": "markdown",
   "metadata": {},
   "source": [
    "### Удаляем токены геообъектов (API). Russian"
   ]
  },
  {
   "cell_type": "code",
   "execution_count": 17,
   "metadata": {},
   "outputs": [],
   "source": [
    "inds = data_all[data_all['address_fail'] == 1]['7-id']\n",
    "addrs = data_all[data_all['address_fail'] == 1]['address'].values\n",
    "\n",
    "reqs = []\n",
    "for ind, addr in zip(inds, addrs):\n",
    "    reqs.append(Request(addr, ind))"
   ]
  },
  {
   "cell_type": "code",
   "execution_count": 18,
   "metadata": {},
   "outputs": [],
   "source": [
    "token = 'c5e55b33-6b43-4312-ab3e-0a5f33a9207a'\n",
    "ya_map_client = YandexApiClient(token)"
   ]
  },
  {
   "cell_type": "code",
   "execution_count": 19,
   "metadata": {},
   "outputs": [
    {
     "name": "stderr",
     "output_type": "stream",
     "text": [
      "100%|██████████| 420/420 [01:58<00:00,  3.35it/s]\n",
      "100%|██████████| 420/420 [01:49<00:00,  3.90it/s]\n"
     ]
    }
   ],
   "source": [
    "resps_en = ya_map_client.geocode(reqs)\n",
    "resps_ru = ya_map_client.translit_geocode(reqs)"
   ]
  },
  {
   "cell_type": "markdown",
   "metadata": {},
   "source": [
    "### Если были ошибки сервера, то здесь можно их поправить, указав порядковый номер"
   ]
  },
  {
   "cell_type": "code",
   "execution_count": 20,
   "metadata": {},
   "outputs": [],
   "source": [
    "# index = [i for i, item in enumerate(resps_en) if item.index == 5087][0]\n",
    "# obj = data_all[data_all['address_fail'].astype(bool)]['address'].values[index]\n",
    "# resps_en[index] = Response(ya_map_client.geocode_i(obj), index)\n",
    "# resps_ru[index] = Response(ya_map_client.translit_geocode_i(obj), index)"
   ]
  },
  {
   "cell_type": "markdown",
   "metadata": {},
   "source": [
    "### Валидация адресов по домам и совпадениям"
   ]
  },
  {
   "cell_type": "code",
   "execution_count": 21,
   "metadata": {},
   "outputs": [
    {
     "name": "stdout",
     "output_type": "stream",
     "text": [
      "Valid: 189. Invalid: 231.\n"
     ]
    }
   ],
   "source": [
    "valid_addresses, invalid_addresses = extract_addresses(resps_en, resps_ru)"
   ]
  },
  {
   "cell_type": "markdown",
   "metadata": {},
   "source": [
    "### Подготовка запросов на основе невалидных адресов"
   ]
  },
  {
   "cell_type": "code",
   "execution_count": 22,
   "metadata": {},
   "outputs": [],
   "source": [
    "invalid_addresses_libpostal_parser = InvalidAddressesLibpostalParser()\n",
    "reqs = invalid_addresses_libpostal_parser.parse(invalid_addresses)"
   ]
  },
  {
   "cell_type": "markdown",
   "metadata": {},
   "source": [
    "### Повторные запросы к геокодеру"
   ]
  },
  {
   "cell_type": "code",
   "execution_count": 23,
   "metadata": {},
   "outputs": [
    {
     "name": "stderr",
     "output_type": "stream",
     "text": [
      "100%|██████████| 420/420 [00:59<00:00,  3.75it/s]\n",
      "100%|██████████| 420/420 [00:59<00:00,  2.18it/s]\n"
     ]
    }
   ],
   "source": [
    "resps_en_2 = ya_map_client.geocode(reqs)\n",
    "resps_ru_2 = ya_map_client.translit_geocode(reqs)"
   ]
  },
  {
   "cell_type": "markdown",
   "metadata": {},
   "source": [
    "### Если были ошибки сервера, то здесь можно их поправить, указав порядковый номер"
   ]
  },
  {
   "cell_type": "code",
   "execution_count": 24,
   "metadata": {},
   "outputs": [],
   "source": [
    "# index = [i for i, item in enumerate(resps_en_2) if item.index == 3614][0]\n",
    "# obj = data_all[data_all['address_fail'].astype(bool)]['address'].values[index]\n",
    "# resps_en_2[index] = Response(ya_map_client.geocode_i(obj), index)\n",
    "# resps_ru_2[index] = Response(ya_map_client.translit_geocode_i(obj), index)"
   ]
  },
  {
   "cell_type": "markdown",
   "metadata": {},
   "source": [
    "### Извлекаем валидные и невалидные адреса при помощи перестановки местами токенов"
   ]
  },
  {
   "cell_type": "code",
   "execution_count": 25,
   "metadata": {},
   "outputs": [
    {
     "name": "stdout",
     "output_type": "stream",
     "text": [
      "Valid: 85. Invalid: 146.\n"
     ]
    }
   ],
   "source": [
    "valid_addresses_2, invalid_addresses_2 = extract_addresses(resps_en_2, resps_ru_2)"
   ]
  },
  {
   "cell_type": "markdown",
   "metadata": {},
   "source": [
    "### Объединяем их с уже имеющимися"
   ]
  },
  {
   "cell_type": "code",
   "execution_count": 26,
   "metadata": {},
   "outputs": [
    {
     "name": "stdout",
     "output_type": "stream",
     "text": [
      "Valid: 274. Invalid 146\n"
     ]
    }
   ],
   "source": [
    "valid_addresses_all = union_addresses(valid_addresses_2, valid_addresses)\n",
    "invalid_addresses_all = invalid_addresses_2\n",
    "print('Valid: %d. Invalid %d' % (len([el for el in valid_addresses_all if el is not None]), len([el for el in invalid_addresses_all if el is not None])))"
   ]
  },
  {
   "cell_type": "markdown",
   "metadata": {},
   "source": [
    "### Смотрим на адреса, которые так и не распознались и отбираем те, у которых есть города"
   ]
  },
  {
   "cell_type": "code",
   "execution_count": 27,
   "metadata": {},
   "outputs": [
    {
     "name": "stdout",
     "output_type": "stream",
     "text": [
      "************************************************************\n",
      "Not detected addresses (these addresses will replace by \"\"):\n",
      "************************************************************\n",
      "NAB-CHELNINSKIJ NAB. CHELNY, ABB, 6B\n",
      "BUL.SVOBOD SURGUT G., DOM. 2 KORP. 2\n",
      "PR-KT. KOMSOMOL'SK TOMSK G., DOM. 13B\n",
      "UL. SHIROKOVA V.F. KOSTROMA G.\n",
      "NOVOSIBIRSK, POLZUNOVA, OB.50, 15\n",
      "UL. SEVASTOPOL'S GUBKIN G., DOM. 101A\n",
      "TURGENEVSKOE S., KRASHODAR, 27\n",
      "MOSKOVSKIY UL. S.-PETERBURG, 188M\n",
      "BUL. HMEL'NIC BELGOROD G., DOM. 137T PR-KT.\n",
      "EKATERINBURG, UL. LUNAC, DOM. 128, LITERA A\n",
      "EKATERINBURG, UL. LUNAC, DOM. 128, LITERA A\n",
      "SH. GOSTIL PETERGOF G., DOM. 58, LITERA A\n",
      "FAKE_ADDRESS_AISUD88ZUX89CUA0SKDPKAPOOKCPOZKXC90IAIS09I\n",
      "KHANDYGA, J.KUDRIAVOGO, 24\n",
      "PARATUNKA, MOLCHANOVA, 22\n",
      "KRASNOARMEJSK. JOSHKAR-OLA, ABB, 111\n",
      "NAROFOMINSKOE SH. KUBINKA, 10\n",
      "VLADIVOSTOK, 100 LET VLADIVOSTOKU A, 51\n",
      "TRAKTOVAYA UL. SREDNIY, 14B\n",
      "UL. KALARASH SOCHI G., DOM. 111\n",
      "MKR. PERVOMAISKII IRKUTSK G., DOM. 54\n",
      "NAB. OBVO SANKT-PETERB, DOM. 120, LITERA 1\n",
      "FAKE_ADDRESS_AISUD88ZUX89CUA0SKDPKAPOOKCPOZKXC90IAIS09I\n",
      "LENINSKIY UL. MOSKVA, 6-1\n",
      "TJUMEN, G. TJUMEN UL. RESPUBL\n",
      "UL. KRASNAYA GURYEVSK G., DOM. 2\n",
      "CHITA, MKR, 29, KSK 5\n",
      "UL. IM GENERALA ME LIPETSK G., DOM. 14\n",
      "KORP. A UL. CENTRAL' NARIMANOV G., 13\n",
      "UL. STANKOSTROITEL ULYANOVSK G., DOM. 14\n",
      "UL. LENINSKAJA SLOB MOSKVA\n",
      "UL. KARBYSH SANKT-PETERB, DOM. 9, LITERA A\n",
      "NA AMURE, KOMSOMOLSK-31, KOMSOM, 37\n",
      "KAZAN, KRASNOKOKSH-AYA, ABB, 158\n",
      "PR-KT. MOSKOVSKII SANKT-PETERB, DOM. 220\n",
      "SCHORSA UL. BELGOROD, 43A\n",
      "NIZHNIY, ORABLESTROIT.PR., NOVGORO, 22B\n",
      "UL. URIYA DVUZHIL' KEMEROVO G., DOM. 32\n",
      "FRUNZENSKIY S.-PETERBURG, 32\n",
      "PR-KT. MOSKOVSKII SANKT-PETERB, DOM. 220\n",
      "BELGOROD, UL., PUGACHEVA-5\n",
      "MOSKOVSKOE SH. S.-PETERBURG, 193\n",
      "42B-A KAMENNOOSTROVSKIY A S.-PETERBURG\n",
      "42B-A KAMENNOOSTROVSKIY A S.-PETERBURG\n",
      "42B-A KAMENNOOSTROVSKIY A S.-PETERBURG\n",
      "TVER, OKTYABRSKAYA, 105\n"
     ]
    }
   ],
   "source": [
    "cityValidator = CityValidator()\n",
    "cityValidator.validate(invalid_addresses_all)"
   ]
  },
  {
   "cell_type": "code",
   "execution_count": 28,
   "metadata": {},
   "outputs": [
    {
     "name": "stdout",
     "output_type": "stream",
     "text": [
      "Valid: 374. Invalid: 46.\n"
     ]
    }
   ],
   "source": [
    "valid_addresses_city = union_addresses(cityValidator.valid_addresses, valid_addresses_all)\n",
    "invalid_addresses_city = cityValidator.invalid_addresses\n",
    "\n",
    "print('Valid: %d. Invalid: %d.' % (len([el for el in valid_addresses_city if el is not None]), len([el for el in invalid_addresses_city if el is not None])))"
   ]
  },
  {
   "cell_type": "code",
   "execution_count": 29,
   "metadata": {},
   "outputs": [],
   "source": [
    "invalid_address_city_parser = InvalidAddressCityParser()"
   ]
  },
  {
   "cell_type": "code",
   "execution_count": 30,
   "metadata": {},
   "outputs": [],
   "source": [
    "reqs = invalid_address_city_parser.parse(cityValidator.valid_addresses)"
   ]
  },
  {
   "cell_type": "markdown",
   "metadata": {},
   "source": [
    "### Повторные запросы к геокодеру"
   ]
  },
  {
   "cell_type": "code",
   "execution_count": 31,
   "metadata": {},
   "outputs": [
    {
     "name": "stderr",
     "output_type": "stream",
     "text": [
      "100%|██████████| 420/420 [00:25<00:00, 16.52it/s]\n",
      "100%|██████████| 420/420 [00:21<00:00, 19.69it/s]\n"
     ]
    }
   ],
   "source": [
    "resps_en_3 = ya_map_client.geocode(reqs)\n",
    "resps_ru_3 = ya_map_client.translit_geocode(reqs)"
   ]
  },
  {
   "cell_type": "markdown",
   "metadata": {},
   "source": [
    "### Объединение в ответ"
   ]
  },
  {
   "cell_type": "code",
   "execution_count": 32,
   "metadata": {},
   "outputs": [
    {
     "name": "stdout",
     "output_type": "stream",
     "text": [
      "Valid: 374. Invalid: 46.\n"
     ]
    }
   ],
   "source": [
    "### extract_addresses without house_validator\n",
    "\n",
    "addrs = [Address(item[0], item[1]) for item in zip(resps_en_3, resps_ru_3)]\n",
    "\n",
    "struct_validator_2 = StructValidator()\n",
    "struct_validator_2.validate(addrs, True)\n",
    "\n",
    "valid_addresses_final = union_addresses(valid_addresses_all, struct_validator_2.valid_addresses)\n",
    "invalid_addresses_final = cityValidator.invalid_addresses\n",
    "\n",
    "valid = len([el for el in valid_addresses_final if el is not None])\n",
    "invalid = len([el for el in invalid_addresses_final if el is not None])\n",
    "print('Valid: %d. Invalid: %d.' % (valid, invalid))"
   ]
  },
  {
   "cell_type": "markdown",
   "metadata": {},
   "source": [
    "### Запись ответа"
   ]
  },
  {
   "cell_type": "code",
   "execution_count": 33,
   "metadata": {},
   "outputs": [],
   "source": [
    "vals = [(el.get_best_coords(), str(el.level), get_city_(el.sturct_ru) if get_city_(el.sturct_en) == '' else get_city_(el.sturct_en), el.index) if el is not None else None for i, el in enumerate(valid_addresses_final)]\n",
    "invals = [(None, None, None, el.index) if el is not None else None for el in invalid_addresses_final]"
   ]
  },
  {
   "cell_type": "code",
   "execution_count": 34,
   "metadata": {},
   "outputs": [],
   "source": [
    "res = []\n",
    "for val, inval in zip(vals, invals):\n",
    "    if val is None:\n",
    "        res.append(inval)\n",
    "    if inval is None:\n",
    "        res.append(val)\n",
    "    if inval is None and val is None:\n",
    "        print('WTF-1?')\n",
    "    if inval is not None and val is not None:\n",
    "        print('WTF-2?')\n",
    "        \n",
    "with open('missed_coords.json', 'w') as outfile:\n",
    "    json.dump(res, outfile)"
   ]
  }
 ],
 "metadata": {
  "kernelspec": {
   "display_name": "Python 3",
   "language": "python",
   "name": "python3"
  },
  "language_info": {
   "codemirror_mode": {
    "name": "ipython",
    "version": 3
   },
   "file_extension": ".py",
   "mimetype": "text/x-python",
   "name": "python",
   "nbconvert_exporter": "python",
   "pygments_lexer": "ipython3",
   "version": "3.6.8"
  }
 },
 "nbformat": 4,
 "nbformat_minor": 2
}
