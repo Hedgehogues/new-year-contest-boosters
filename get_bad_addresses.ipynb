{
 "cells": [
  {
   "cell_type": "code",
   "execution_count": 1,
   "metadata": {},
   "outputs": [],
   "source": [
    "import pandas as pd\n",
    "import numpy as np\n",
    "from tqdm import tqdm\n",
    "import json\n",
    "\n",
    "from rating.validator import union_addresses, extract_addresses\n",
    "from rating.ya_maps_client import YandexApiClient, Request, Response\n",
    "from rating.address import Address\n",
    "from rating.utils import get_city_\n",
    "\n",
    "\n",
    "\n",
    "fontsize = 18\n",
    "figsize = (15,10)\n",
    "plot_alpha = 0.3\n",
    "linewidth = 4\n",
    "\n",
    "pd.set_option('display.max_columns', 500)\n",
    "pd.set_option('display.max_rows', 500)"
   ]
  },
  {
   "cell_type": "code",
   "execution_count": 2,
   "metadata": {},
   "outputs": [],
   "source": [
    "def rmse(y_true, y_pred):\n",
    "    return sqrt(mean_squared_error(y_true, y_pred))"
   ]
  },
  {
   "cell_type": "code",
   "execution_count": 3,
   "metadata": {},
   "outputs": [],
   "source": [
    "train = pd.read_csv('data/train.csv', index_col=0)\n",
    "test = pd.read_csv('data/test.csv', index_col=0)"
   ]
  },
  {
   "cell_type": "code",
   "execution_count": 4,
   "metadata": {},
   "outputs": [],
   "source": [
    "test = test.rename(columns={'lat': 'lat', 'long': 'long'})\n",
    "train = train.rename(columns={'lat': 'lat', 'long': 'long'})"
   ]
  },
  {
   "cell_type": "markdown",
   "metadata": {},
   "source": [
    "### Создаём общие данные tran-test"
   ]
  },
  {
   "cell_type": "code",
   "execution_count": 5,
   "metadata": {},
   "outputs": [],
   "source": [
    "data_all = train.append(test, sort=False)"
   ]
  },
  {
   "cell_type": "markdown",
   "metadata": {},
   "source": [
    "### Фиксируем невалидные адреса"
   ]
  },
  {
   "cell_type": "code",
   "execution_count": 6,
   "metadata": {},
   "outputs": [],
   "source": [
    "data_all['address_fail'] = 0\n",
    "data_all.at[data_all['address_rus'].isnull(), 'address_fail'] = 1"
   ]
  },
  {
   "cell_type": "markdown",
   "metadata": {},
   "source": [
    "### Геокодинг"
   ]
  },
  {
   "cell_type": "code",
   "execution_count": 7,
   "metadata": {},
   "outputs": [],
   "source": [
    "inds = data_all[data_all['address_fail'] == 1]['address'].index\n",
    "addrs = data_all[data_all['address_fail'] == 1]['address'].values\n",
    "\n",
    "reqs = []\n",
    "for ind, addr in zip(inds, addrs):\n",
    "    reqs.append(Request(addr, ind))"
   ]
  },
  {
   "cell_type": "code",
   "execution_count": 8,
   "metadata": {},
   "outputs": [],
   "source": [
    "token = 'YOUR-YANDEX-MAPS-API-TOKEN'\n",
    "ya_map_client = YandexApiClient(token)"
   ]
  },
  {
   "cell_type": "code",
   "execution_count": 9,
   "metadata": {},
   "outputs": [
    {
     "name": "stderr",
     "output_type": "stream",
     "text": [
      "100%|██████████| 420/420 [01:44<00:00,  4.10it/s]\n",
      "100%|██████████| 420/420 [01:43<00:00,  3.58it/s]\n"
     ]
    }
   ],
   "source": [
    "resps_en = ya_map_client.geocode(reqs)\n",
    "resps_ru = ya_map_client.translit_geocode(reqs)"
   ]
  },
  {
   "cell_type": "markdown",
   "metadata": {},
   "source": [
    "### Если были ошибки сервера, то здесь можно их поправить, указав порядковый номер"
   ]
  },
  {
   "cell_type": "code",
   "execution_count": 10,
   "metadata": {},
   "outputs": [],
   "source": [
    "# index = [i for i, item in enumerate(resps_en) if item.index == 5087][0]  # 5087 -- порядковый номер\n",
    "# obj = data_all[data_all['address_fail'].astype(bool)]['address'].values[index]\n",
    "# resps_en[index] = Response(ya_map_client.geocode_i(obj), index)\n",
    "# resps_ru[index] = Response(ya_map_client.translit_geocode_i(obj), index)"
   ]
  },
  {
   "cell_type": "markdown",
   "metadata": {},
   "source": [
    "### Валидация адресов по домам и совпадениям"
   ]
  },
  {
   "cell_type": "code",
   "execution_count": 10,
   "metadata": {},
   "outputs": [
    {
     "name": "stdout",
     "output_type": "stream",
     "text": [
      "Valid: 171. Invalid: 249.\n"
     ]
    }
   ],
   "source": [
    "valid_addresses, invalid_addresses = extract_addresses(resps_en, resps_ru)"
   ]
  },
  {
   "cell_type": "markdown",
   "metadata": {},
   "source": [
    "### Сохранение данных"
   ]
  },
  {
   "cell_type": "code",
   "execution_count": 16,
   "metadata": {},
   "outputs": [],
   "source": [
    "res = []\n",
    "for i, item in enumerate(zip(valid_addresses, invalid_addresses)):\n",
    "    valid_address = item[0]\n",
    "    invalid_address = item[1]\n",
    "    if valid_address is None and invalid_address is None:\n",
    "        raise Exception('Fail %d' % i)\n",
    "    if valid_address is not None and invalid_address is not None:\n",
    "        raise Exception('Fail %d' % i)\n",
    "    if valid_address is not None:\n",
    "        res.append((valid_address.index, valid_address.get_best_coords()))\n",
    "    if invalid_address is not None:\n",
    "        res.append((invalid_address.index, {'long': 0, 'lat': 0}))\n",
    "    "
   ]
  },
  {
   "cell_type": "code",
   "execution_count": 17,
   "metadata": {},
   "outputs": [],
   "source": [
    "with open('data/missed_coords.json', 'w') as out:\n",
    "    json.dump(res, out)"
   ]
  }
 ],
 "metadata": {
  "kernelspec": {
   "display_name": "Python 3",
   "language": "python",
   "name": "python3"
  },
  "language_info": {
   "codemirror_mode": {
    "name": "ipython",
    "version": 3
   },
   "file_extension": ".py",
   "mimetype": "text/x-python",
   "name": "python",
   "nbconvert_exporter": "python",
   "pygments_lexer": "ipython3",
   "version": "3.6.6"
  }
 },
 "nbformat": 4,
 "nbformat_minor": 2
}
